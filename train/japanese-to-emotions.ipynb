{
 "cells": [
  {
   "cell_type": "markdown",
   "id": "63afaf2b",
   "metadata": {},
   "source": [
    "## データの前処理\n",
    "データセットをファインチューニングのために整えていきます"
   ]
  },
  {
   "cell_type": "markdown",
   "id": "559e5e58",
   "metadata": {},
   "source": [
    "#### 依存関係のインポート"
   ]
  },
  {
   "cell_type": "code",
   "execution_count": 1,
   "id": "710e35ec",
   "metadata": {},
   "outputs": [],
   "source": [
    "import pandas as pd\n",
    "from transformers import AutoTokenizer, AutoModelForSequenceClassification, Trainer, TrainingArguments\n",
    "from datasets import Dataset\n",
    "import numpy as np"
   ]
  },
  {
   "cell_type": "markdown",
   "id": "167fb2df",
   "metadata": {},
   "source": [
    "#### 定数宣言"
   ]
  },
  {
   "cell_type": "code",
   "execution_count": null,
   "id": "cbbd7073",
   "metadata": {},
   "outputs": [],
   "source": [
    "EMOTIONS = [\n",
    "    \"Joy\",\n",
    "    \"Sadness\",\n",
    "    \"Anticipation\",\n",
    "    \"Surprise\",\n",
    "    \"Anger\",\n",
    "    \"Fear\",\n",
    "    \"Disgust\",\n",
    "    \"Trust\",\n",
    "]\n",
    "\n",
    "PRETRAINED_MODEL_NAME = \"line-corporation/line-distilbert-base-japanese\""
   ]
  },
  {
   "cell_type": "markdown",
   "id": "f0f004a3",
   "metadata": {},
   "source": [
    "#### データセットのロード\n",
    "Pandas データフレームにロードします"
   ]
  },
  {
   "cell_type": "code",
   "execution_count": 2,
   "id": "d1d07ad5",
   "metadata": {},
   "outputs": [],
   "source": [
    "df = pd.read_table(\"./dataset/wrime-ver2.tsv\")"
   ]
  },
  {
   "cell_type": "markdown",
   "id": "4097101d",
   "metadata": {},
   "source": [
    "#### 訓練とテストのデータに分割する\n",
    "カラム\"Train/Dev/Test\"というカラムを利用します"
   ]
  },
  {
   "cell_type": "code",
   "execution_count": 3,
   "id": "6008633e",
   "metadata": {},
   "outputs": [],
   "source": [
    "train_df = df[df[\"Train/Dev/Test\"] == \"train\"].copy()\n",
    "test_df = df[df[\"Train/Dev/Test\"] == \"test\"].copy()"
   ]
  },
  {
   "cell_type": "markdown",
   "id": "0c548bee",
   "metadata": {},
   "source": [
    "#### 感情カラムを統合する\n",
    "投稿者の評価、3の客観評価の平均からなる合計16カラムを統合します、\n",
    "主観と客観を用意されている1 : 3 の割合で統合したいので、客観評価に対して3を掛けます"
   ]
  },
  {
   "cell_type": "code",
   "execution_count": 4,
   "id": "18010469",
   "metadata": {},
   "outputs": [],
   "source": [
    "def merge_emotions(splited_df):\n",
    "    merged_df = splited_df.copy()\n",
    "    emotions = EMOTIONS\n",
    "\n",
    "    READER_NUM = 3\n",
    "    for e in emotions:\n",
    "        merged_df[f\"Merged_{e}\"] = (\n",
    "            merged_df[f\"Writer_{e}\"] + merged_df[f\"Avg. Readers_{e}\"] * READER_NUM\n",
    "        )\n",
    "    merged_df[\"Merged_emotion_list\"] = merged_df[\n",
    "        [f\"Merged_{e}\" for e in emotions]\n",
    "    ].values.tolist()\n",
    "\n",
    "    return merged_df\n",
    "\n",
    "\n",
    "train_merged_df = merge_emotions(train_df)\n",
    "test_merged_df = merge_emotions(test_df)"
   ]
  },
  {
   "cell_type": "markdown",
   "id": "2212dd8f",
   "metadata": {},
   "source": [
    "#### トークナイザーのロードと保存"
   ]
  },
  {
   "cell_type": "code",
   "execution_count": 5,
   "id": "44c94332",
   "metadata": {},
   "outputs": [
    {
     "data": {
      "text/plain": [
       "('./output/tokenizer/tokenizer_config.json',\n",
       " './output/tokenizer/special_tokens_map.json',\n",
       " './output/tokenizer/spiece.model',\n",
       " './output/tokenizer/added_tokens.json')"
      ]
     },
     "execution_count": 5,
     "metadata": {},
     "output_type": "execute_result"
    }
   ],
   "source": [
    "tokenizer = AutoTokenizer.from_pretrained(\n",
    "    PRETRAINED_MODEL_NAME,\n",
    "    clean_up_tokenization_spaces=False,\n",
    ")\n",
    "tokenizer.save_pretrained(\"./output/tokenizer\")"
   ]
  },
  {
   "cell_type": "markdown",
   "id": "0cc4c477",
   "metadata": {},
   "source": [
    "#### トークナイズと正規化\n",
    "Dataset にロードし、効率的にファインチューニングできるようにトークナイズとL1正規化を行います"
   ]
  },
  {
   "cell_type": "code",
   "execution_count": null,
   "id": "37ddd6b5",
   "metadata": {},
   "outputs": [],
   "source": [
    "def format_dataset(batch, _tokenizer):\n",
    "    formatted_batch = _tokenizer(\n",
    "        batch[\"Sentence\"],\n",
    "        padding=\"max_length\",\n",
    "        truncation=True,\n",
    "        max_length=512,\n",
    "    )\n",
    "    formatted_batch[\"labels\"] = [x / (np.sum(x) + 1e-8) for x in batch[\"Merged_emotion_list\"]]\n",
    "\n",
    "    return formatted_batch\n",
    "\n",
    "\n",
    "target_columns = [\"Sentence\", \"Merged_emotion_list\"]\n",
    "train_dataset = Dataset.from_pandas(train_merged_df[target_columns])\n",
    "test_dataset = Dataset.from_pandas(test_merged_df[target_columns])\n",
    "\n",
    "preprocessed_data = {\n",
    "    \"train\": train_dataset.map(\n",
    "        lambda batch: format_dataset(batch, tokenizer),\n",
    "        batched=True,\n",
    "        cache_file_name=None,\n",
    "    ),\n",
    "    \"test\": test_dataset.map(\n",
    "        lambda batch: format_dataset(batch, tokenizer),\n",
    "        batched=True,\n",
    "        cache_file_name=None,\n",
    "    ),\n",
    "}"
   ]
  },
  {
   "cell_type": "markdown",
   "id": "9af52350",
   "metadata": {},
   "source": [
    "## ファインチューニング\n",
    "前処理済みのデータセットを使って基盤モデルを訓練していきます"
   ]
  },
  {
   "cell_type": "markdown",
   "id": "4121ea40",
   "metadata": {},
   "source": [
    "#### 基盤モデルのロード"
   ]
  },
  {
   "cell_type": "code",
   "execution_count": null,
   "id": "a643fa3c",
   "metadata": {},
   "outputs": [],
   "source": [
    "model = AutoModelForSequenceClassification.from_pretrained(\n",
    "    PRETRAINED_MODEL_NAME,\n",
    "    num_labels=len(EMOTIONS),\n",
    ")"
   ]
  },
  {
   "cell_type": "markdown",
   "id": "9643e1e2",
   "metadata": {},
   "source": [
    "#### 訓練の設定"
   ]
  },
  {
   "cell_type": "code",
   "execution_count": null,
   "id": "7a1911f4",
   "metadata": {},
   "outputs": [],
   "source": [
    "training_args = TrainingArguments(\n",
    "    output_dir=\"./output/result\",\n",
    "    eval_strategy=\"epoch\",\n",
    "    save_strategy=\"epoch\",\n",
    "    per_device_train_batch_size=16,\n",
    "    per_device_eval_batch_size=16,\n",
    "    num_train_epochs=3,\n",
    "    weight_decay=0.01,\n",
    "    logging_dir=\"./logs\",\n",
    "    logging_steps=10,\n",
    "    load_best_model_at_end=True,\n",
    ")\n",
    "\n",
    "trainer = Trainer(\n",
    "    model=model,\n",
    "    args=training_args,\n",
    "    train_dataset=preprocessed_data[\"train\"],\n",
    "    eval_dataset=preprocessed_data[\"test\"],\n",
    ")"
   ]
  },
  {
   "cell_type": "markdown",
   "id": "c19a7635",
   "metadata": {},
   "source": [
    "#### 訓練開始とモデルの保存"
   ]
  },
  {
   "cell_type": "code",
   "execution_count": null,
   "id": "9e1190dd",
   "metadata": {},
   "outputs": [],
   "source": [
    "trainer.train()\n",
    "\n",
    "model.save_pretrained(\"./output/model\")"
   ]
  }
 ],
 "metadata": {
  "kernelspec": {
   "display_name": "Python 3 (ipykernel)",
   "language": "python",
   "name": "python3"
  },
  "language_info": {
   "codemirror_mode": {
    "name": "ipython",
    "version": 3
   },
   "file_extension": ".py",
   "mimetype": "text/x-python",
   "name": "python",
   "nbconvert_exporter": "python",
   "pygments_lexer": "ipython3",
   "version": "3.12.4"
  }
 },
 "nbformat": 4,
 "nbformat_minor": 5
}
